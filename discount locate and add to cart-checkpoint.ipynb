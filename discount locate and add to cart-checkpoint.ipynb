{
 "cells": [
  {
   "cell_type": "code",
   "execution_count": 13,
   "id": "6c51d5fd",
   "metadata": {},
   "outputs": [],
   "source": [
    "import time\n",
    "import requests\n",
    "from bs4 import BeautifulSoup\n",
    "from selenium import webdriver"
   ]
  },
  {
   "cell_type": "code",
   "execution_count": 14,
   "id": "1a84b1b4",
   "metadata": {},
   "outputs": [],
   "source": [
    "driver = webdriver.Chrome() \n",
    "url = \"https://www.trendyol.com/steelseries/arctis-7p-ps5-wireless-gaming-kulaklik-kayipsiz-2-4ghz-ps-3d-audio-destekler-beyaz-p-217552099?boutiqueId=638145&merchantId=968\"\n"
   ]
  },
  {
   "cell_type": "code",
   "execution_count": 15,
   "id": "c1858677",
   "metadata": {},
   "outputs": [],
   "source": [
    "def discount_locate():\n",
    " html_text = requests.get(url)\n",
    " soup = BeautifulSoup(html_text.content, 'html.parser')\n",
    "\n",
    " if \"Son 30 Günün En Düşük Fiyatı!\" in soup.text: # If there is a discount return True\n",
    "    return True\n",
    " return False\n"
   ]
  },
  {
   "cell_type": "code",
   "execution_count": 16,
   "id": "fea18364",
   "metadata": {},
   "outputs": [],
   "source": [
    "from selenium.webdriver.remote.webelement import WebElement\n",
    "from selenium.webdriver.support.ui import WebDriverWait\n",
    "from selenium.webdriver.support import expected_conditions as EC\n",
    "\n",
    "def add_basket():\n",
    "    driver.get(url)\n",
    "    \n",
    "    try:\n",
    "        # Reject Cookies\n",
    "        # Wait 3 seconds until the condition is met.\n",
    "        cookie_button = WebDriverWait(driver, 3).until(\n",
    "            EC.element_to_be_clickable((By.CSS_SELECTOR, \"[id='rejectAllButton']\"))\n",
    "        )\n",
    "        cookie_button.click()\n",
    "    except:\n",
    "        print(\"No cookie popup found.\")\n",
    "        \n",
    "    try:\n",
    "        # In case there is another popup accept\n",
    "        # Wait 3 seconds until the condition is met.\n",
    "        accept_button = WebDriverWait(driver, 3).until(\n",
    "        EC.element_to_be_clickable((By.CLASS_NAME, \"onboarding-popover__default-renderer-primary-button\"))\n",
    "        )\n",
    "        accept_button.click()  # Click the button\n",
    "    except:\n",
    "        print(\"No Other popups found\") \n",
    "        \n",
    "    try:\n",
    "        # We are defining the 'add_to_basket' valuable\n",
    "        # Waits in until it is present\n",
    "        add_to_basket: WebElement = WebDriverWait(driver, 3).until(\n",
    "            EC.presence_of_element_located((By.CSS_SELECTOR, \"[component-id='1']\"))\n",
    "        )\n",
    "        add_to_basket.click()\n",
    "        print(\"Added to Basket!\")\n",
    "    except Exception as e:\n",
    "        print(\"Add to basket button not found.\", e)"
   ]
  },
  {
   "cell_type": "code",
   "execution_count": 17,
   "id": "6567e68b",
   "metadata": {},
   "outputs": [
    {
     "name": "stdout",
     "output_type": "stream",
     "text": [
      "Low Price...\n",
      "Added to Basket!\n"
     ]
    }
   ],
   "source": [
    "while True:\n",
    "    if discount_locate():\n",
    "        print(\"Low Price...\")\n",
    "        add_basket()\n",
    "        break\n",
    "    else:\n",
    "        print(\"Same Price...\")\n",
    "        time.sleep(30) # Wait 30 sn. and then check again"
   ]
  }
 ],
 "metadata": {
  "kernelspec": {
   "display_name": "Python 3 (ipykernel)",
   "language": "python",
   "name": "python3"
  },
  "language_info": {
   "codemirror_mode": {
    "name": "ipython",
    "version": 3
   },
   "file_extension": ".py",
   "mimetype": "text/x-python",
   "name": "python",
   "nbconvert_exporter": "python",
   "pygments_lexer": "ipython3",
   "version": "3.11.5"
  }
 },
 "nbformat": 4,
 "nbformat_minor": 5
}
